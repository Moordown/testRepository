{
 "cells": [
  {
   "cell_type": "code",
   "execution_count": 1,
   "metadata": {
    "collapsed": true
   },
   "outputs": [],
   "source": [
    "import json\n",
    "import matplotlib.pyplot as plt"
   ]
  },
  {
   "cell_type": "code",
   "execution_count": 37,
   "metadata": {},
   "outputs": [
    {
     "name": "stdout",
     "output_type": "stream",
     "text": [
      "{'second': [[-2, -1, 0, 1, 2], [-8, -1, 0, 1, 8]], 'third': [[0, 1, 2, 3, 4], [0, 1, 2, 3, 4]], 'first': [[0, 1, 2, 3, 4], [0, 1, 4, 9, 16]]}\n"
     ]
    }
   ],
   "source": [
    "f = open('./data.txt', 'r')\n",
    "jsObj = json.loads(f.read())\n",
    "arr = {}\n",
    "for alg in jsObj:\n",
    "    \n",
    "    arr.setdefault(alg, [[],[]]);\n",
    "    for x in jsObj[alg]:\n",
    "        arr[alg][0].append(int(x))\n",
    "        arr[alg][1].append(int(jsObj[alg][x]))\n",
    "    arr[alg][0].sort()\n",
    "    arr[alg][1].sort()\n",
    "print(arr)"
   ]
  },
  {
   "cell_type": "code",
   "execution_count": 39,
   "metadata": {},
   "outputs": [
    {
     "data": {
      "image/png": "[encoded data removed]",
      "text/plain": [
       "<matplotlib.figure.Figure at 0xac9cb78c>"
      ]
     },
     "metadata": {},
     "output_type": "display_data"
    }
   ],
   "source": [
    "for alg in jsObj:\n",
    "    plt.plot(arr[alg][0], arr[alg][1], label=alg, linestyle='dotted')\n",
    "plt.axis([-5, 5, -10, 20])\n",
    "plt.legend()\n",
    "plt.show()"
   ]
  },
  {
   "cell_type": "code",
   "execution_count": 23,
   "metadata": {},
   "outputs": [
    {
     "data": {
      "text/plain": [
       "{'first': {1, 2, 3, 4}}"
      ]
     },
     "execution_count": 23,
     "metadata": {},
     "output_type": "execute_result"
    }
   ],
   "source": [
    "arr = {}\n",
    "arr[\"first\"] = {1, 2, 3}\n",
    "arr[\"first\"].add(4)\n",
    "arr"
   ]
  },
  {
   "cell_type": "code",
   "execution_count": null,
   "metadata": {
    "collapsed": true
   },
   "outputs": [],
   "source": [
    "a"
   ]
  }
 ],
 "metadata": {
  "kernelspec": {
   "display_name": "Python 3",
   "language": "python",
   "name": "python3"
  },
  "language_info": {
   "codemirror_mode": {
    "name": "ipython",
    "version": 3
   },
   "file_extension": ".py",
   "mimetype": "text/x-python",
   "name": "python",
   "nbconvert_exporter": "python",
   "pygments_lexer": "ipython3",
   "version": "3.5.2"
  }
 },
 "nbformat": 4,
 "nbformat_minor": 2
}
